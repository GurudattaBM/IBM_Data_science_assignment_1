{
 "cells": [
  {
   "cell_type": "markdown",
   "id": "3bcd29ee-d296-410f-b3e1-e115b0ed2111",
   "metadata": {},
   "source": [
    "# Data Science Tools and Ecosystem"
   ]
  },
  {
   "cell_type": "markdown",
   "id": "4ecedca5-f11c-47ca-baf1-fa75f2637464",
   "metadata": {},
   "source": [
    "In this notebook, Data Science Tools and Ecosystem are summarized."
   ]
  },
  {
   "cell_type": "markdown",
   "id": "d5dcdf0a-3da7-48c5-af60-5334e1b7cb4d",
   "metadata": {},
   "source": [
    "**Objectives:**\n",
    "* List popular languages for Data science\n",
    "* List of commonly used libraries for data science\n",
    "* some basic python operations\n",
    "* Creating a table in jupyter notebook"
   ]
  },
  {
   "cell_type": "markdown",
   "id": "f4cd700d-76b1-455a-9419-25803df3da17",
   "metadata": {},
   "source": [
    "Some of the popular languages that Data Scientists use are:\n",
    "1. Python\n",
    "2. SQL\n",
    "3. R\n",
    "4. Julia"
   ]
  },
  {
   "cell_type": "markdown",
   "id": "76e57b5f-9f3e-4f5f-b95a-1be8d65d3e19",
   "metadata": {},
   "source": [
    "Some of the commonly used libraries used by Data Scientists include:\n",
    "1. Pandas\n",
    "2. Numpy\n",
    "3. Tensorflow\n",
    "4. ggplot"
   ]
  },
  {
   "cell_type": "markdown",
   "id": "1dac7d58-89b1-4f5f-83a4-5e5de22480e5",
   "metadata": {
    "tags": []
   },
   "source": [
    "\n",
    "| Data_Science_Tools |\n",
    "|------------------|\n",
    "|Jupyter lab|\n",
    "|IBM Watson|\n",
    "|Anaconda|\n",
    "|apache spark|"
   ]
  },
  {
   "cell_type": "markdown",
   "id": "2690e9d3-4bef-4361-b680-03390d589241",
   "metadata": {},
   "source": [
    "### Below are a few examples of evaluating arithmetic expressions in Python"
   ]
  },
  {
   "cell_type": "code",
   "execution_count": 7,
   "id": "cd4525d0-1fe1-476c-b61e-e0c02b21d608",
   "metadata": {
    "tags": []
   },
   "outputs": [
    {
     "data": {
      "text/plain": [
       "17"
      ]
     },
     "execution_count": 7,
     "metadata": {},
     "output_type": "execute_result"
    }
   ],
   "source": [
    "#This a simple arithmetic expression to mutiply then add integers\n",
    "(3*4)+5\n"
   ]
  },
  {
   "cell_type": "code",
   "execution_count": 9,
   "id": "89e5b007-51d8-48d5-9b0b-81e7f8b7284f",
   "metadata": {
    "tags": []
   },
   "outputs": [
    {
     "name": "stdout",
     "output_type": "stream",
     "text": [
      "3.3333333333333335\n"
     ]
    }
   ],
   "source": [
    "#This will convert 200 minutes to hours by diving by 60\n",
    "\n",
    "mins = 200\n",
    "hours = mins/60\n",
    "print(hours)"
   ]
  },
  {
   "cell_type": "markdown",
   "id": "ad5ee913-b364-47f2-a284-eaee44cf3e0c",
   "metadata": {},
   "source": [
    "## Author\n",
    "Gurudatta"
   ]
  },
  {
   "cell_type": "code",
   "execution_count": null,
   "id": "f11d12bf-fc61-4d32-a4ab-c02b2ff615d3",
   "metadata": {},
   "outputs": [],
   "source": []
  }
 ],
 "metadata": {
  "kernelspec": {
   "display_name": "Python",
   "language": "python",
   "name": "conda-env-python-py"
  },
  "language_info": {
   "codemirror_mode": {
    "name": "ipython",
    "version": 3
   },
   "file_extension": ".py",
   "mimetype": "text/x-python",
   "name": "python",
   "nbconvert_exporter": "python",
   "pygments_lexer": "ipython3",
   "version": "3.7.12"
  }
 },
 "nbformat": 4,
 "nbformat_minor": 5
}
